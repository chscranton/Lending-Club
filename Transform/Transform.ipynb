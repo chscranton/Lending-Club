{
 "cells": [
  {
   "cell_type": "code",
   "execution_count": 1,
   "metadata": {},
   "outputs": [],
   "source": [
    "import pandas as pd"
   ]
  },
  {
   "cell_type": "code",
   "execution_count": 2,
   "metadata": {},
   "outputs": [],
   "source": [
    "clean_df = pd.read_csv(\"../DataFiles/clean_data.csv\", compression='gzip')"
   ]
  },
  {
   "cell_type": "code",
   "execution_count": 3,
   "metadata": {},
   "outputs": [
    {
     "data": {
      "text/html": [
       "<div>\n",
       "<style scoped>\n",
       "    .dataframe tbody tr th:only-of-type {\n",
       "        vertical-align: middle;\n",
       "    }\n",
       "\n",
       "    .dataframe tbody tr th {\n",
       "        vertical-align: top;\n",
       "    }\n",
       "\n",
       "    .dataframe thead th {\n",
       "        text-align: right;\n",
       "    }\n",
       "</style>\n",
       "<table border=\"1\" class=\"dataframe\">\n",
       "  <thead>\n",
       "    <tr style=\"text-align: right;\">\n",
       "      <th></th>\n",
       "      <th>Unnamed: 0</th>\n",
       "      <th>loan_amnt</th>\n",
       "      <th>term</th>\n",
       "      <th>int_rate</th>\n",
       "      <th>issue_d</th>\n",
       "      <th>purpose</th>\n",
       "      <th>zip_code</th>\n",
       "      <th>addr_state</th>\n",
       "      <th>annual_inc</th>\n",
       "      <th>home_ownership</th>\n",
       "    </tr>\n",
       "  </thead>\n",
       "  <tbody>\n",
       "    <tr>\n",
       "      <th>0</th>\n",
       "      <td>0</td>\n",
       "      <td>2500</td>\n",
       "      <td>36</td>\n",
       "      <td>13.56</td>\n",
       "      <td>12-2018</td>\n",
       "      <td>debt_consolidation</td>\n",
       "      <td>109xx</td>\n",
       "      <td>NY</td>\n",
       "      <td>55000.0</td>\n",
       "      <td>RENT</td>\n",
       "    </tr>\n",
       "    <tr>\n",
       "      <th>1</th>\n",
       "      <td>1</td>\n",
       "      <td>30000</td>\n",
       "      <td>60</td>\n",
       "      <td>18.94</td>\n",
       "      <td>12-2018</td>\n",
       "      <td>debt_consolidation</td>\n",
       "      <td>713xx</td>\n",
       "      <td>LA</td>\n",
       "      <td>90000.0</td>\n",
       "      <td>MORTGAGE</td>\n",
       "    </tr>\n",
       "    <tr>\n",
       "      <th>2</th>\n",
       "      <td>2</td>\n",
       "      <td>5000</td>\n",
       "      <td>36</td>\n",
       "      <td>17.97</td>\n",
       "      <td>12-2018</td>\n",
       "      <td>debt_consolidation</td>\n",
       "      <td>490xx</td>\n",
       "      <td>MI</td>\n",
       "      <td>59280.0</td>\n",
       "      <td>MORTGAGE</td>\n",
       "    </tr>\n",
       "    <tr>\n",
       "      <th>3</th>\n",
       "      <td>3</td>\n",
       "      <td>4000</td>\n",
       "      <td>36</td>\n",
       "      <td>18.94</td>\n",
       "      <td>12-2018</td>\n",
       "      <td>debt_consolidation</td>\n",
       "      <td>985xx</td>\n",
       "      <td>WA</td>\n",
       "      <td>92000.0</td>\n",
       "      <td>MORTGAGE</td>\n",
       "    </tr>\n",
       "    <tr>\n",
       "      <th>4</th>\n",
       "      <td>4</td>\n",
       "      <td>30000</td>\n",
       "      <td>60</td>\n",
       "      <td>16.14</td>\n",
       "      <td>12-2018</td>\n",
       "      <td>debt_consolidation</td>\n",
       "      <td>212xx</td>\n",
       "      <td>MD</td>\n",
       "      <td>57250.0</td>\n",
       "      <td>MORTGAGE</td>\n",
       "    </tr>\n",
       "  </tbody>\n",
       "</table>\n",
       "</div>"
      ],
      "text/plain": [
       "   Unnamed: 0  loan_amnt  term  int_rate  issue_d             purpose  \\\n",
       "0           0       2500    36     13.56  12-2018  debt_consolidation   \n",
       "1           1      30000    60     18.94  12-2018  debt_consolidation   \n",
       "2           2       5000    36     17.97  12-2018  debt_consolidation   \n",
       "3           3       4000    36     18.94  12-2018  debt_consolidation   \n",
       "4           4      30000    60     16.14  12-2018  debt_consolidation   \n",
       "\n",
       "  zip_code addr_state  annual_inc home_ownership  \n",
       "0    109xx         NY     55000.0           RENT  \n",
       "1    713xx         LA     90000.0       MORTGAGE  \n",
       "2    490xx         MI     59280.0       MORTGAGE  \n",
       "3    985xx         WA     92000.0       MORTGAGE  \n",
       "4    212xx         MD     57250.0       MORTGAGE  "
      ]
     },
     "execution_count": 3,
     "metadata": {},
     "output_type": "execute_result"
    }
   ],
   "source": [
    "clean_df.head()"
   ]
  },
  {
   "cell_type": "code",
   "execution_count": 4,
   "metadata": {},
   "outputs": [
    {
     "data": {
      "text/plain": [
       "Unnamed: 0        2260668\n",
       "loan_amnt         2260668\n",
       "term              2260668\n",
       "int_rate          2260668\n",
       "issue_d           2260668\n",
       "purpose           2260668\n",
       "zip_code          2260667\n",
       "addr_state        2260668\n",
       "annual_inc        2260664\n",
       "home_ownership    2260668\n",
       "dtype: int64"
      ]
     },
     "execution_count": 4,
     "metadata": {},
     "output_type": "execute_result"
    }
   ],
   "source": [
    "clean_df.count()"
   ]
  },
  {
   "cell_type": "code",
   "execution_count": 7,
   "metadata": {},
   "outputs": [
    {
     "data": {
      "text/plain": [
       "Unnamed: 0          int64\n",
       "loan_amnt           int64\n",
       "term                int64\n",
       "int_rate          float64\n",
       "issue_d            object\n",
       "purpose            object\n",
       "zip_code           object\n",
       "addr_state         object\n",
       "annual_inc        float64\n",
       "home_ownership     object\n",
       "dtype: object"
      ]
     },
     "execution_count": 7,
     "metadata": {},
     "output_type": "execute_result"
    }
   ],
   "source": [
    "clean_df.dtypes"
   ]
  },
  {
   "cell_type": "code",
   "execution_count": 9,
   "metadata": {},
   "outputs": [
    {
     "data": {
      "text/plain": [
       "2260668"
      ]
     },
     "execution_count": 9,
     "metadata": {},
     "output_type": "execute_result"
    }
   ],
   "source": [
    "len(clean_df)"
   ]
  },
  {
   "cell_type": "code",
   "execution_count": 12,
   "metadata": {},
   "outputs": [
    {
     "data": {
      "text/html": [
       "<div>\n",
       "<style scoped>\n",
       "    .dataframe tbody tr th:only-of-type {\n",
       "        vertical-align: middle;\n",
       "    }\n",
       "\n",
       "    .dataframe tbody tr th {\n",
       "        vertical-align: top;\n",
       "    }\n",
       "\n",
       "    .dataframe thead th {\n",
       "        text-align: right;\n",
       "    }\n",
       "</style>\n",
       "<table border=\"1\" class=\"dataframe\">\n",
       "  <thead>\n",
       "    <tr style=\"text-align: right;\">\n",
       "      <th></th>\n",
       "      <th>Unnamed: 0</th>\n",
       "      <th>loan_amnt</th>\n",
       "      <th>term</th>\n",
       "      <th>int_rate</th>\n",
       "      <th>annual_inc</th>\n",
       "    </tr>\n",
       "  </thead>\n",
       "  <tbody>\n",
       "    <tr>\n",
       "      <th>count</th>\n",
       "      <td>2.260668e+06</td>\n",
       "      <td>2.260668e+06</td>\n",
       "      <td>2.260668e+06</td>\n",
       "      <td>2.260668e+06</td>\n",
       "      <td>2.260664e+06</td>\n",
       "    </tr>\n",
       "    <tr>\n",
       "      <th>mean</th>\n",
       "      <td>1.130334e+06</td>\n",
       "      <td>1.504693e+04</td>\n",
       "      <td>4.291032e+01</td>\n",
       "      <td>1.309291e+01</td>\n",
       "      <td>7.799243e+04</td>\n",
       "    </tr>\n",
       "    <tr>\n",
       "      <th>std</th>\n",
       "      <td>6.525988e+05</td>\n",
       "      <td>9.190245e+03</td>\n",
       "      <td>1.086716e+01</td>\n",
       "      <td>4.832114e+00</td>\n",
       "      <td>1.126962e+05</td>\n",
       "    </tr>\n",
       "    <tr>\n",
       "      <th>min</th>\n",
       "      <td>0.000000e+00</td>\n",
       "      <td>5.000000e+02</td>\n",
       "      <td>3.600000e+01</td>\n",
       "      <td>5.310000e+00</td>\n",
       "      <td>0.000000e+00</td>\n",
       "    </tr>\n",
       "    <tr>\n",
       "      <th>25%</th>\n",
       "      <td>5.651668e+05</td>\n",
       "      <td>8.000000e+03</td>\n",
       "      <td>3.600000e+01</td>\n",
       "      <td>9.490000e+00</td>\n",
       "      <td>4.600000e+04</td>\n",
       "    </tr>\n",
       "    <tr>\n",
       "      <th>50%</th>\n",
       "      <td>1.130334e+06</td>\n",
       "      <td>1.290000e+04</td>\n",
       "      <td>3.600000e+01</td>\n",
       "      <td>1.262000e+01</td>\n",
       "      <td>6.500000e+04</td>\n",
       "    </tr>\n",
       "    <tr>\n",
       "      <th>75%</th>\n",
       "      <td>1.695500e+06</td>\n",
       "      <td>2.000000e+04</td>\n",
       "      <td>6.000000e+01</td>\n",
       "      <td>1.599000e+01</td>\n",
       "      <td>9.300000e+04</td>\n",
       "    </tr>\n",
       "    <tr>\n",
       "      <th>max</th>\n",
       "      <td>2.260667e+06</td>\n",
       "      <td>4.000000e+04</td>\n",
       "      <td>6.000000e+01</td>\n",
       "      <td>3.099000e+01</td>\n",
       "      <td>1.100000e+08</td>\n",
       "    </tr>\n",
       "  </tbody>\n",
       "</table>\n",
       "</div>"
      ],
      "text/plain": [
       "         Unnamed: 0     loan_amnt          term      int_rate    annual_inc\n",
       "count  2.260668e+06  2.260668e+06  2.260668e+06  2.260668e+06  2.260664e+06\n",
       "mean   1.130334e+06  1.504693e+04  4.291032e+01  1.309291e+01  7.799243e+04\n",
       "std    6.525988e+05  9.190245e+03  1.086716e+01  4.832114e+00  1.126962e+05\n",
       "min    0.000000e+00  5.000000e+02  3.600000e+01  5.310000e+00  0.000000e+00\n",
       "25%    5.651668e+05  8.000000e+03  3.600000e+01  9.490000e+00  4.600000e+04\n",
       "50%    1.130334e+06  1.290000e+04  3.600000e+01  1.262000e+01  6.500000e+04\n",
       "75%    1.695500e+06  2.000000e+04  6.000000e+01  1.599000e+01  9.300000e+04\n",
       "max    2.260667e+06  4.000000e+04  6.000000e+01  3.099000e+01  1.100000e+08"
      ]
     },
     "execution_count": 12,
     "metadata": {},
     "output_type": "execute_result"
    }
   ],
   "source": [
    "clean_df.describe()"
   ]
  },
  {
   "cell_type": "code",
   "execution_count": 14,
   "metadata": {},
   "outputs": [
    {
     "data": {
      "text/plain": [
       "Index(['Unnamed: 0', 'loan_amnt', 'term', 'int_rate', 'issue_d', 'purpose',\n",
       "       'zip_code', 'addr_state', 'annual_inc', 'home_ownership'],\n",
       "      dtype='object')"
      ]
     },
     "execution_count": 14,
     "metadata": {},
     "output_type": "execute_result"
    }
   ],
   "source": [
    "clean_df.columns"
   ]
  },
  {
   "cell_type": "code",
   "execution_count": 16,
   "metadata": {},
   "outputs": [],
   "source": [
    "clean_df = clean_df[['loan_amnt', 'term', 'int_rate', 'issue_d', 'purpose',\n",
    "       'zip_code', 'addr_state', 'annual_inc', 'home_ownership']]"
   ]
  },
  {
   "cell_type": "code",
   "execution_count": 17,
   "metadata": {},
   "outputs": [
    {
     "data": {
      "text/html": [
       "<div>\n",
       "<style scoped>\n",
       "    .dataframe tbody tr th:only-of-type {\n",
       "        vertical-align: middle;\n",
       "    }\n",
       "\n",
       "    .dataframe tbody tr th {\n",
       "        vertical-align: top;\n",
       "    }\n",
       "\n",
       "    .dataframe thead th {\n",
       "        text-align: right;\n",
       "    }\n",
       "</style>\n",
       "<table border=\"1\" class=\"dataframe\">\n",
       "  <thead>\n",
       "    <tr style=\"text-align: right;\">\n",
       "      <th></th>\n",
       "      <th>loan_amnt</th>\n",
       "      <th>term</th>\n",
       "      <th>int_rate</th>\n",
       "      <th>issue_d</th>\n",
       "      <th>purpose</th>\n",
       "      <th>zip_code</th>\n",
       "      <th>addr_state</th>\n",
       "      <th>annual_inc</th>\n",
       "      <th>home_ownership</th>\n",
       "    </tr>\n",
       "  </thead>\n",
       "  <tbody>\n",
       "    <tr>\n",
       "      <th>0</th>\n",
       "      <td>2500</td>\n",
       "      <td>36</td>\n",
       "      <td>13.56</td>\n",
       "      <td>12-2018</td>\n",
       "      <td>debt_consolidation</td>\n",
       "      <td>109xx</td>\n",
       "      <td>NY</td>\n",
       "      <td>55000.0</td>\n",
       "      <td>RENT</td>\n",
       "    </tr>\n",
       "    <tr>\n",
       "      <th>1</th>\n",
       "      <td>30000</td>\n",
       "      <td>60</td>\n",
       "      <td>18.94</td>\n",
       "      <td>12-2018</td>\n",
       "      <td>debt_consolidation</td>\n",
       "      <td>713xx</td>\n",
       "      <td>LA</td>\n",
       "      <td>90000.0</td>\n",
       "      <td>MORTGAGE</td>\n",
       "    </tr>\n",
       "    <tr>\n",
       "      <th>2</th>\n",
       "      <td>5000</td>\n",
       "      <td>36</td>\n",
       "      <td>17.97</td>\n",
       "      <td>12-2018</td>\n",
       "      <td>debt_consolidation</td>\n",
       "      <td>490xx</td>\n",
       "      <td>MI</td>\n",
       "      <td>59280.0</td>\n",
       "      <td>MORTGAGE</td>\n",
       "    </tr>\n",
       "    <tr>\n",
       "      <th>3</th>\n",
       "      <td>4000</td>\n",
       "      <td>36</td>\n",
       "      <td>18.94</td>\n",
       "      <td>12-2018</td>\n",
       "      <td>debt_consolidation</td>\n",
       "      <td>985xx</td>\n",
       "      <td>WA</td>\n",
       "      <td>92000.0</td>\n",
       "      <td>MORTGAGE</td>\n",
       "    </tr>\n",
       "    <tr>\n",
       "      <th>4</th>\n",
       "      <td>30000</td>\n",
       "      <td>60</td>\n",
       "      <td>16.14</td>\n",
       "      <td>12-2018</td>\n",
       "      <td>debt_consolidation</td>\n",
       "      <td>212xx</td>\n",
       "      <td>MD</td>\n",
       "      <td>57250.0</td>\n",
       "      <td>MORTGAGE</td>\n",
       "    </tr>\n",
       "  </tbody>\n",
       "</table>\n",
       "</div>"
      ],
      "text/plain": [
       "   loan_amnt  term  int_rate  issue_d             purpose zip_code addr_state  \\\n",
       "0       2500    36     13.56  12-2018  debt_consolidation    109xx         NY   \n",
       "1      30000    60     18.94  12-2018  debt_consolidation    713xx         LA   \n",
       "2       5000    36     17.97  12-2018  debt_consolidation    490xx         MI   \n",
       "3       4000    36     18.94  12-2018  debt_consolidation    985xx         WA   \n",
       "4      30000    60     16.14  12-2018  debt_consolidation    212xx         MD   \n",
       "\n",
       "   annual_inc home_ownership  \n",
       "0     55000.0           RENT  \n",
       "1     90000.0       MORTGAGE  \n",
       "2     59280.0       MORTGAGE  \n",
       "3     92000.0       MORTGAGE  \n",
       "4     57250.0       MORTGAGE  "
      ]
     },
     "execution_count": 17,
     "metadata": {},
     "output_type": "execute_result"
    }
   ],
   "source": [
    "clean_df.head()"
   ]
  },
  {
   "cell_type": "code",
   "execution_count": 22,
   "metadata": {},
   "outputs": [
    {
     "data": {
      "text/plain": [
       "array(['NY', 'LA', 'MI', 'WA', 'MD', 'IN', 'IL', 'FL', 'CT', 'GA', 'UT',\n",
       "       'NC', 'KY', 'OH', 'AR', 'OK', 'CA', 'WV', 'NJ', 'SC', 'TX', 'PA',\n",
       "       'KS', 'AL', 'VA', 'MO', 'AZ', 'NM', 'CO', 'RI', 'WI', 'TN', 'NV',\n",
       "       'MA', 'NE', 'MN', 'NH', 'OR', 'VT', 'DC', 'MS', 'ID', 'DE', 'ND',\n",
       "       'HI', 'ME', 'AK', 'WY', 'MT', 'SD', 'IA'], dtype=object)"
      ]
     },
     "execution_count": 22,
     "metadata": {},
     "output_type": "execute_result"
    }
   ],
   "source": [
    "clean_df['addr_state'].unique()"
   ]
  },
  {
   "cell_type": "code",
   "execution_count": 23,
   "metadata": {},
   "outputs": [],
   "source": [
    "state_demo_df = pd.read_csv('../DataFiles/StateDemoData.csv')"
   ]
  },
  {
   "cell_type": "code",
   "execution_count": 25,
   "metadata": {},
   "outputs": [],
   "source": [
    "state_credit_df = pd.read_csv('../DataFiles/stateCredit.csv')"
   ]
  },
  {
   "cell_type": "code",
   "execution_count": 26,
   "metadata": {},
   "outputs": [
    {
     "data": {
      "text/html": [
       "<div>\n",
       "<style scoped>\n",
       "    .dataframe tbody tr th:only-of-type {\n",
       "        vertical-align: middle;\n",
       "    }\n",
       "\n",
       "    .dataframe tbody tr th {\n",
       "        vertical-align: top;\n",
       "    }\n",
       "\n",
       "    .dataframe thead th {\n",
       "        text-align: right;\n",
       "    }\n",
       "</style>\n",
       "<table border=\"1\" class=\"dataframe\">\n",
       "  <thead>\n",
       "    <tr style=\"text-align: right;\">\n",
       "      <th></th>\n",
       "      <th>Unnamed: 0</th>\n",
       "      <th>State</th>\n",
       "      <th>Abr.</th>\n",
       "      <th>Municipal Population</th>\n",
       "      <th>2018</th>\n",
       "      <th>2017</th>\n",
       "      <th>2016</th>\n",
       "    </tr>\n",
       "  </thead>\n",
       "  <tbody>\n",
       "    <tr>\n",
       "      <th>0</th>\n",
       "      <td>0</td>\n",
       "      <td>Alabama</td>\n",
       "      <td>AL</td>\n",
       "      <td>198218</td>\n",
       "      <td>$49,861</td>\n",
       "      <td>$48,123</td>\n",
       "      <td>$46,257</td>\n",
       "    </tr>\n",
       "    <tr>\n",
       "      <th>1</th>\n",
       "      <td>1</td>\n",
       "      <td>Alaska</td>\n",
       "      <td>AK</td>\n",
       "      <td>31275</td>\n",
       "      <td>$74,346</td>\n",
       "      <td>$73,181</td>\n",
       "      <td>$76,440</td>\n",
       "    </tr>\n",
       "    <tr>\n",
       "      <th>2</th>\n",
       "      <td>2</td>\n",
       "      <td>Arizona</td>\n",
       "      <td>AZ</td>\n",
       "      <td>1660272</td>\n",
       "      <td>$59,246</td>\n",
       "      <td>$56,581</td>\n",
       "      <td>$53,558</td>\n",
       "    </tr>\n",
       "    <tr>\n",
       "      <th>3</th>\n",
       "      <td>3</td>\n",
       "      <td>Arkansas</td>\n",
       "      <td>AR</td>\n",
       "      <td>193524</td>\n",
       "      <td>$47,062</td>\n",
       "      <td>$45,869</td>\n",
       "      <td>$44,334</td>\n",
       "    </tr>\n",
       "    <tr>\n",
       "      <th>4</th>\n",
       "      <td>4</td>\n",
       "      <td>California</td>\n",
       "      <td>CA</td>\n",
       "      <td>508529</td>\n",
       "      <td>$75,277</td>\n",
       "      <td>$71,805</td>\n",
       "      <td>$67,739</td>\n",
       "    </tr>\n",
       "  </tbody>\n",
       "</table>\n",
       "</div>"
      ],
      "text/plain": [
       "   Unnamed: 0       State Abr.  Municipal Population     2018     2017  \\\n",
       "0           0     Alabama   AL                198218  $49,861  $48,123   \n",
       "1           1      Alaska   AK                 31275  $74,346  $73,181   \n",
       "2           2     Arizona   AZ               1660272  $59,246  $56,581   \n",
       "3           3    Arkansas   AR                193524  $47,062  $45,869   \n",
       "4           4  California   CA                508529  $75,277  $71,805   \n",
       "\n",
       "      2016  \n",
       "0  $46,257  \n",
       "1  $76,440  \n",
       "2  $53,558  \n",
       "3  $44,334  \n",
       "4  $67,739  "
      ]
     },
     "execution_count": 26,
     "metadata": {},
     "output_type": "execute_result"
    }
   ],
   "source": [
    "state_demo_df.head()"
   ]
  },
  {
   "cell_type": "code",
   "execution_count": 27,
   "metadata": {},
   "outputs": [
    {
     "data": {
      "text/html": [
       "<div>\n",
       "<style scoped>\n",
       "    .dataframe tbody tr th:only-of-type {\n",
       "        vertical-align: middle;\n",
       "    }\n",
       "\n",
       "    .dataframe tbody tr th {\n",
       "        vertical-align: top;\n",
       "    }\n",
       "\n",
       "    .dataframe thead th {\n",
       "        text-align: right;\n",
       "    }\n",
       "</style>\n",
       "<table border=\"1\" class=\"dataframe\">\n",
       "  <thead>\n",
       "    <tr style=\"text-align: right;\">\n",
       "      <th></th>\n",
       "      <th>Unnamed: 0</th>\n",
       "      <th>0</th>\n",
       "      <th>1</th>\n",
       "      <th>2</th>\n",
       "    </tr>\n",
       "  </thead>\n",
       "  <tbody>\n",
       "    <tr>\n",
       "      <th>0</th>\n",
       "      <td>0</td>\n",
       "      <td>State</td>\n",
       "      <td>Average VantageScore</td>\n",
       "      <td>Average Credit Card Balance</td>\n",
       "    </tr>\n",
       "    <tr>\n",
       "      <th>1</th>\n",
       "      <td>1</td>\n",
       "      <td>Alabama</td>\n",
       "      <td>654</td>\n",
       "      <td>$5,961</td>\n",
       "    </tr>\n",
       "    <tr>\n",
       "      <th>2</th>\n",
       "      <td>2</td>\n",
       "      <td>Alaska</td>\n",
       "      <td>668</td>\n",
       "      <td>$8,516</td>\n",
       "    </tr>\n",
       "    <tr>\n",
       "      <th>3</th>\n",
       "      <td>3</td>\n",
       "      <td>Arizona</td>\n",
       "      <td>669</td>\n",
       "      <td>$6,389</td>\n",
       "    </tr>\n",
       "    <tr>\n",
       "      <th>4</th>\n",
       "      <td>4</td>\n",
       "      <td>Arkansas</td>\n",
       "      <td>657</td>\n",
       "      <td>$5,660</td>\n",
       "    </tr>\n",
       "  </tbody>\n",
       "</table>\n",
       "</div>"
      ],
      "text/plain": [
       "   Unnamed: 0         0                     1                            2\n",
       "0           0     State  Average VantageScore  Average Credit Card Balance\n",
       "1           1   Alabama                   654                       $5,961\n",
       "2           2    Alaska                   668                       $8,516\n",
       "3           3   Arizona                   669                       $6,389\n",
       "4           4  Arkansas                   657                       $5,660"
      ]
     },
     "execution_count": 27,
     "metadata": {},
     "output_type": "execute_result"
    }
   ],
   "source": [
    "state_credit_df.head()"
   ]
  },
  {
   "cell_type": "code",
   "execution_count": 28,
   "metadata": {},
   "outputs": [
    {
     "data": {
      "text/plain": [
       "Index(['Unnamed: 0', 'State', 'Abr.', 'Municipal Population', '2018', '2017',\n",
       "       '2016'],\n",
       "      dtype='object')"
      ]
     },
     "execution_count": 28,
     "metadata": {},
     "output_type": "execute_result"
    }
   ],
   "source": [
    "state_demo_df.columns"
   ]
  },
  {
   "cell_type": "code",
   "execution_count": 29,
   "metadata": {},
   "outputs": [],
   "source": [
    "state_demo_df = state_demo_df[['State', 'Abr.', 'Municipal Population', '2018', '2017',\n",
    "       '2016']]"
   ]
  },
  {
   "cell_type": "code",
   "execution_count": 30,
   "metadata": {},
   "outputs": [
    {
     "data": {
      "text/html": [
       "<div>\n",
       "<style scoped>\n",
       "    .dataframe tbody tr th:only-of-type {\n",
       "        vertical-align: middle;\n",
       "    }\n",
       "\n",
       "    .dataframe tbody tr th {\n",
       "        vertical-align: top;\n",
       "    }\n",
       "\n",
       "    .dataframe thead th {\n",
       "        text-align: right;\n",
       "    }\n",
       "</style>\n",
       "<table border=\"1\" class=\"dataframe\">\n",
       "  <thead>\n",
       "    <tr style=\"text-align: right;\">\n",
       "      <th></th>\n",
       "      <th>State</th>\n",
       "      <th>Abr.</th>\n",
       "      <th>Municipal Population</th>\n",
       "      <th>2018</th>\n",
       "      <th>2017</th>\n",
       "      <th>2016</th>\n",
       "    </tr>\n",
       "  </thead>\n",
       "  <tbody>\n",
       "    <tr>\n",
       "      <th>0</th>\n",
       "      <td>Alabama</td>\n",
       "      <td>AL</td>\n",
       "      <td>198218</td>\n",
       "      <td>$49,861</td>\n",
       "      <td>$48,123</td>\n",
       "      <td>$46,257</td>\n",
       "    </tr>\n",
       "    <tr>\n",
       "      <th>1</th>\n",
       "      <td>Alaska</td>\n",
       "      <td>AK</td>\n",
       "      <td>31275</td>\n",
       "      <td>$74,346</td>\n",
       "      <td>$73,181</td>\n",
       "      <td>$76,440</td>\n",
       "    </tr>\n",
       "    <tr>\n",
       "      <th>2</th>\n",
       "      <td>Arizona</td>\n",
       "      <td>AZ</td>\n",
       "      <td>1660272</td>\n",
       "      <td>$59,246</td>\n",
       "      <td>$56,581</td>\n",
       "      <td>$53,558</td>\n",
       "    </tr>\n",
       "    <tr>\n",
       "      <th>3</th>\n",
       "      <td>Arkansas</td>\n",
       "      <td>AR</td>\n",
       "      <td>193524</td>\n",
       "      <td>$47,062</td>\n",
       "      <td>$45,869</td>\n",
       "      <td>$44,334</td>\n",
       "    </tr>\n",
       "    <tr>\n",
       "      <th>4</th>\n",
       "      <td>California</td>\n",
       "      <td>CA</td>\n",
       "      <td>508529</td>\n",
       "      <td>$75,277</td>\n",
       "      <td>$71,805</td>\n",
       "      <td>$67,739</td>\n",
       "    </tr>\n",
       "  </tbody>\n",
       "</table>\n",
       "</div>"
      ],
      "text/plain": [
       "        State Abr.  Municipal Population     2018     2017     2016\n",
       "0     Alabama   AL                198218  $49,861  $48,123  $46,257\n",
       "1      Alaska   AK                 31275  $74,346  $73,181  $76,440\n",
       "2     Arizona   AZ               1660272  $59,246  $56,581  $53,558\n",
       "3    Arkansas   AR                193524  $47,062  $45,869  $44,334\n",
       "4  California   CA                508529  $75,277  $71,805  $67,739"
      ]
     },
     "execution_count": 30,
     "metadata": {},
     "output_type": "execute_result"
    }
   ],
   "source": [
    "state_demo_df.head()"
   ]
  },
  {
   "cell_type": "code",
   "execution_count": 31,
   "metadata": {},
   "outputs": [],
   "source": [
    "state_credit_df.columns = state_credit_df.iloc[0]"
   ]
  },
  {
   "cell_type": "code",
   "execution_count": 33,
   "metadata": {},
   "outputs": [],
   "source": [
    "state_credit_df = state_credit_df[1:]"
   ]
  },
  {
   "cell_type": "code",
   "execution_count": 35,
   "metadata": {},
   "outputs": [
    {
     "data": {
      "text/plain": [
       "Index([0, 'State', 'Average VantageScore', 'Average Credit Card Balance'], dtype='object', name=0)"
      ]
     },
     "execution_count": 35,
     "metadata": {},
     "output_type": "execute_result"
    }
   ],
   "source": [
    "state_credit_df.columns"
   ]
  },
  {
   "cell_type": "code",
   "execution_count": 36,
   "metadata": {},
   "outputs": [],
   "source": [
    "state_credit_df = state_credit_df[['State', 'Average VantageScore', 'Average Credit Card Balance']]"
   ]
  },
  {
   "cell_type": "code",
   "execution_count": 37,
   "metadata": {},
   "outputs": [
    {
     "data": {
      "text/html": [
       "<div>\n",
       "<style scoped>\n",
       "    .dataframe tbody tr th:only-of-type {\n",
       "        vertical-align: middle;\n",
       "    }\n",
       "\n",
       "    .dataframe tbody tr th {\n",
       "        vertical-align: top;\n",
       "    }\n",
       "\n",
       "    .dataframe thead th {\n",
       "        text-align: right;\n",
       "    }\n",
       "</style>\n",
       "<table border=\"1\" class=\"dataframe\">\n",
       "  <thead>\n",
       "    <tr style=\"text-align: right;\">\n",
       "      <th></th>\n",
       "      <th>State</th>\n",
       "      <th>Average VantageScore</th>\n",
       "      <th>Average Credit Card Balance</th>\n",
       "    </tr>\n",
       "  </thead>\n",
       "  <tbody>\n",
       "    <tr>\n",
       "      <th>1</th>\n",
       "      <td>Alabama</td>\n",
       "      <td>654</td>\n",
       "      <td>$5,961</td>\n",
       "    </tr>\n",
       "    <tr>\n",
       "      <th>2</th>\n",
       "      <td>Alaska</td>\n",
       "      <td>668</td>\n",
       "      <td>$8,516</td>\n",
       "    </tr>\n",
       "    <tr>\n",
       "      <th>3</th>\n",
       "      <td>Arizona</td>\n",
       "      <td>669</td>\n",
       "      <td>$6,389</td>\n",
       "    </tr>\n",
       "    <tr>\n",
       "      <th>4</th>\n",
       "      <td>Arkansas</td>\n",
       "      <td>657</td>\n",
       "      <td>$5,660</td>\n",
       "    </tr>\n",
       "    <tr>\n",
       "      <th>5</th>\n",
       "      <td>California</td>\n",
       "      <td>680</td>\n",
       "      <td>$6,481</td>\n",
       "    </tr>\n",
       "  </tbody>\n",
       "</table>\n",
       "</div>"
      ],
      "text/plain": [
       "0       State Average VantageScore Average Credit Card Balance\n",
       "1     Alabama                  654                      $5,961\n",
       "2      Alaska                  668                      $8,516\n",
       "3     Arizona                  669                      $6,389\n",
       "4    Arkansas                  657                      $5,660\n",
       "5  California                  680                      $6,481"
      ]
     },
     "execution_count": 37,
     "metadata": {},
     "output_type": "execute_result"
    }
   ],
   "source": [
    "state_credit_df.head()"
   ]
  },
  {
   "cell_type": "code",
   "execution_count": 38,
   "metadata": {},
   "outputs": [],
   "source": [
    "state_finance_df = state_demo_df.merge(state_credit_df, left_on='State', right_on='State')"
   ]
  },
  {
   "cell_type": "code",
   "execution_count": 39,
   "metadata": {},
   "outputs": [
    {
     "data": {
      "text/html": [
       "<div>\n",
       "<style scoped>\n",
       "    .dataframe tbody tr th:only-of-type {\n",
       "        vertical-align: middle;\n",
       "    }\n",
       "\n",
       "    .dataframe tbody tr th {\n",
       "        vertical-align: top;\n",
       "    }\n",
       "\n",
       "    .dataframe thead th {\n",
       "        text-align: right;\n",
       "    }\n",
       "</style>\n",
       "<table border=\"1\" class=\"dataframe\">\n",
       "  <thead>\n",
       "    <tr style=\"text-align: right;\">\n",
       "      <th></th>\n",
       "      <th>State</th>\n",
       "      <th>Abr.</th>\n",
       "      <th>Municipal Population</th>\n",
       "      <th>2018</th>\n",
       "      <th>2017</th>\n",
       "      <th>2016</th>\n",
       "      <th>Average VantageScore</th>\n",
       "      <th>Average Credit Card Balance</th>\n",
       "    </tr>\n",
       "  </thead>\n",
       "  <tbody>\n",
       "    <tr>\n",
       "      <th>0</th>\n",
       "      <td>Alabama</td>\n",
       "      <td>AL</td>\n",
       "      <td>198218</td>\n",
       "      <td>$49,861</td>\n",
       "      <td>$48,123</td>\n",
       "      <td>$46,257</td>\n",
       "      <td>654</td>\n",
       "      <td>$5,961</td>\n",
       "    </tr>\n",
       "    <tr>\n",
       "      <th>1</th>\n",
       "      <td>Alaska</td>\n",
       "      <td>AK</td>\n",
       "      <td>31275</td>\n",
       "      <td>$74,346</td>\n",
       "      <td>$73,181</td>\n",
       "      <td>$76,440</td>\n",
       "      <td>668</td>\n",
       "      <td>$8,516</td>\n",
       "    </tr>\n",
       "    <tr>\n",
       "      <th>2</th>\n",
       "      <td>Arizona</td>\n",
       "      <td>AZ</td>\n",
       "      <td>1660272</td>\n",
       "      <td>$59,246</td>\n",
       "      <td>$56,581</td>\n",
       "      <td>$53,558</td>\n",
       "      <td>669</td>\n",
       "      <td>$6,389</td>\n",
       "    </tr>\n",
       "    <tr>\n",
       "      <th>3</th>\n",
       "      <td>Arkansas</td>\n",
       "      <td>AR</td>\n",
       "      <td>193524</td>\n",
       "      <td>$47,062</td>\n",
       "      <td>$45,869</td>\n",
       "      <td>$44,334</td>\n",
       "      <td>657</td>\n",
       "      <td>$5,660</td>\n",
       "    </tr>\n",
       "    <tr>\n",
       "      <th>4</th>\n",
       "      <td>California</td>\n",
       "      <td>CA</td>\n",
       "      <td>508529</td>\n",
       "      <td>$75,277</td>\n",
       "      <td>$71,805</td>\n",
       "      <td>$67,739</td>\n",
       "      <td>680</td>\n",
       "      <td>$6,481</td>\n",
       "    </tr>\n",
       "  </tbody>\n",
       "</table>\n",
       "</div>"
      ],
      "text/plain": [
       "        State Abr.  Municipal Population     2018     2017     2016  \\\n",
       "0     Alabama   AL                198218  $49,861  $48,123  $46,257   \n",
       "1      Alaska   AK                 31275  $74,346  $73,181  $76,440   \n",
       "2     Arizona   AZ               1660272  $59,246  $56,581  $53,558   \n",
       "3    Arkansas   AR                193524  $47,062  $45,869  $44,334   \n",
       "4  California   CA                508529  $75,277  $71,805  $67,739   \n",
       "\n",
       "  Average VantageScore Average Credit Card Balance  \n",
       "0                  654                      $5,961  \n",
       "1                  668                      $8,516  \n",
       "2                  669                      $6,389  \n",
       "3                  657                      $5,660  \n",
       "4                  680                      $6,481  "
      ]
     },
     "execution_count": 39,
     "metadata": {},
     "output_type": "execute_result"
    }
   ],
   "source": [
    "state_finance_df.head()"
   ]
  },
  {
   "cell_type": "code",
   "execution_count": 40,
   "metadata": {},
   "outputs": [],
   "source": [
    "state_finance_df = state_finance_df.set_index('State')"
   ]
  },
  {
   "cell_type": "code",
   "execution_count": 41,
   "metadata": {},
   "outputs": [
    {
     "data": {
      "text/html": [
       "<div>\n",
       "<style scoped>\n",
       "    .dataframe tbody tr th:only-of-type {\n",
       "        vertical-align: middle;\n",
       "    }\n",
       "\n",
       "    .dataframe tbody tr th {\n",
       "        vertical-align: top;\n",
       "    }\n",
       "\n",
       "    .dataframe thead th {\n",
       "        text-align: right;\n",
       "    }\n",
       "</style>\n",
       "<table border=\"1\" class=\"dataframe\">\n",
       "  <thead>\n",
       "    <tr style=\"text-align: right;\">\n",
       "      <th></th>\n",
       "      <th>Abr.</th>\n",
       "      <th>Municipal Population</th>\n",
       "      <th>2018</th>\n",
       "      <th>2017</th>\n",
       "      <th>2016</th>\n",
       "      <th>Average VantageScore</th>\n",
       "      <th>Average Credit Card Balance</th>\n",
       "    </tr>\n",
       "    <tr>\n",
       "      <th>State</th>\n",
       "      <th></th>\n",
       "      <th></th>\n",
       "      <th></th>\n",
       "      <th></th>\n",
       "      <th></th>\n",
       "      <th></th>\n",
       "      <th></th>\n",
       "    </tr>\n",
       "  </thead>\n",
       "  <tbody>\n",
       "    <tr>\n",
       "      <th>Alabama</th>\n",
       "      <td>AL</td>\n",
       "      <td>198218</td>\n",
       "      <td>$49,861</td>\n",
       "      <td>$48,123</td>\n",
       "      <td>$46,257</td>\n",
       "      <td>654</td>\n",
       "      <td>$5,961</td>\n",
       "    </tr>\n",
       "    <tr>\n",
       "      <th>Alaska</th>\n",
       "      <td>AK</td>\n",
       "      <td>31275</td>\n",
       "      <td>$74,346</td>\n",
       "      <td>$73,181</td>\n",
       "      <td>$76,440</td>\n",
       "      <td>668</td>\n",
       "      <td>$8,516</td>\n",
       "    </tr>\n",
       "    <tr>\n",
       "      <th>Arizona</th>\n",
       "      <td>AZ</td>\n",
       "      <td>1660272</td>\n",
       "      <td>$59,246</td>\n",
       "      <td>$56,581</td>\n",
       "      <td>$53,558</td>\n",
       "      <td>669</td>\n",
       "      <td>$6,389</td>\n",
       "    </tr>\n",
       "    <tr>\n",
       "      <th>Arkansas</th>\n",
       "      <td>AR</td>\n",
       "      <td>193524</td>\n",
       "      <td>$47,062</td>\n",
       "      <td>$45,869</td>\n",
       "      <td>$44,334</td>\n",
       "      <td>657</td>\n",
       "      <td>$5,660</td>\n",
       "    </tr>\n",
       "    <tr>\n",
       "      <th>California</th>\n",
       "      <td>CA</td>\n",
       "      <td>508529</td>\n",
       "      <td>$75,277</td>\n",
       "      <td>$71,805</td>\n",
       "      <td>$67,739</td>\n",
       "      <td>680</td>\n",
       "      <td>$6,481</td>\n",
       "    </tr>\n",
       "  </tbody>\n",
       "</table>\n",
       "</div>"
      ],
      "text/plain": [
       "           Abr.  Municipal Population     2018     2017     2016  \\\n",
       "State                                                              \n",
       "Alabama      AL                198218  $49,861  $48,123  $46,257   \n",
       "Alaska       AK                 31275  $74,346  $73,181  $76,440   \n",
       "Arizona      AZ               1660272  $59,246  $56,581  $53,558   \n",
       "Arkansas     AR                193524  $47,062  $45,869  $44,334   \n",
       "California   CA                508529  $75,277  $71,805  $67,739   \n",
       "\n",
       "           Average VantageScore Average Credit Card Balance  \n",
       "State                                                        \n",
       "Alabama                     654                      $5,961  \n",
       "Alaska                      668                      $8,516  \n",
       "Arizona                     669                      $6,389  \n",
       "Arkansas                    657                      $5,660  \n",
       "California                  680                      $6,481  "
      ]
     },
     "execution_count": 41,
     "metadata": {},
     "output_type": "execute_result"
    }
   ],
   "source": [
    "state_finance_df.head()"
   ]
  },
  {
   "cell_type": "code",
   "execution_count": 42,
   "metadata": {},
   "outputs": [],
   "source": [
    "state_finance_df.to_csv(\"../DataFiles/combined_state_finance_data.csv\", index=True)"
   ]
  },
  {
   "cell_type": "code",
   "execution_count": null,
   "metadata": {},
   "outputs": [],
   "source": []
  }
 ],
 "metadata": {
  "kernelspec": {
   "display_name": "Python 3",
   "language": "python",
   "name": "python3"
  },
  "language_info": {
   "codemirror_mode": {
    "name": "ipython",
    "version": 3
   },
   "file_extension": ".py",
   "mimetype": "text/x-python",
   "name": "python",
   "nbconvert_exporter": "python",
   "pygments_lexer": "ipython3",
   "version": "3.7.4"
  }
 },
 "nbformat": 4,
 "nbformat_minor": 2
}
